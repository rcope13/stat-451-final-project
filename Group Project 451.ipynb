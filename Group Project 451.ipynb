{
 "cells": [
  {
   "cell_type": "code",
   "execution_count": 1,
   "id": "ed306eb0",
   "metadata": {},
   "outputs": [
    {
     "name": "stdout",
     "output_type": "stream",
     "text": [
      "Author: Ryan Cope, Dominic Solberg, Sam Gemini\n",
      "\n",
      "Last updated: 2021-12-04\n",
      "\n",
      "Python implementation: CPython\n",
      "Python version       : 3.8.8\n",
      "IPython version      : 7.22.0\n",
      "\n",
      "numpy     : 1.20.1\n",
      "scipy     : 1.6.2\n",
      "matplotlib: 3.3.4\n",
      "xgboost   : 1.5.0\n",
      "sklearn   : 0.24.1\n",
      "mlxtend   : 0.19.0\n",
      "\n"
     ]
    }
   ],
   "source": [
    "%load_ext watermark\n",
    "%watermark -a \"Ryan Cope, Dominic Solberg, Sam Gemini\" -u -d -v -p numpy,scipy,matplotlib,xgboost,sklearn,mlxtend"
   ]
  },
  {
   "cell_type": "code",
   "execution_count": 2,
   "id": "2dcba0fd",
   "metadata": {},
   "outputs": [],
   "source": [
    "import os\n",
    "os.chdir(os.getcwd())"
   ]
  },
  {
   "cell_type": "code",
   "execution_count": 3,
   "id": "0b9fa40e",
   "metadata": {},
   "outputs": [],
   "source": [
    "# 1. Data Loading"
   ]
  },
  {
   "cell_type": "code",
   "execution_count": 4,
   "id": "3aabb7c5",
   "metadata": {},
   "outputs": [
    {
     "data": {
      "text/html": [
       "<div>\n",
       "<style scoped>\n",
       "    .dataframe tbody tr th:only-of-type {\n",
       "        vertical-align: middle;\n",
       "    }\n",
       "\n",
       "    .dataframe tbody tr th {\n",
       "        vertical-align: top;\n",
       "    }\n",
       "\n",
       "    .dataframe thead th {\n",
       "        text-align: right;\n",
       "    }\n",
       "</style>\n",
       "<table border=\"1\" class=\"dataframe\">\n",
       "  <thead>\n",
       "    <tr style=\"text-align: right;\">\n",
       "      <th></th>\n",
       "      <th>bip_id</th>\n",
       "      <th>game_date</th>\n",
       "      <th>home_team</th>\n",
       "      <th>away_team</th>\n",
       "      <th>batter_team</th>\n",
       "      <th>batter_name</th>\n",
       "      <th>pitcher_name</th>\n",
       "      <th>batter_id</th>\n",
       "      <th>pitcher_id</th>\n",
       "      <th>is_batter_lefty</th>\n",
       "      <th>...</th>\n",
       "      <th>outs_when_up</th>\n",
       "      <th>balls</th>\n",
       "      <th>strikes</th>\n",
       "      <th>plate_x</th>\n",
       "      <th>plate_z</th>\n",
       "      <th>pitch_mph</th>\n",
       "      <th>launch_speed</th>\n",
       "      <th>launch_angle</th>\n",
       "      <th>is_home_run</th>\n",
       "      <th>same_hand_players</th>\n",
       "    </tr>\n",
       "  </thead>\n",
       "  <tbody>\n",
       "    <tr>\n",
       "      <th>0</th>\n",
       "      <td>1</td>\n",
       "      <td>2020-08-26</td>\n",
       "      <td>ARI</td>\n",
       "      <td>COL</td>\n",
       "      <td>COL</td>\n",
       "      <td>arenado, nolan</td>\n",
       "      <td>ray, robbie</td>\n",
       "      <td>571448</td>\n",
       "      <td>592662</td>\n",
       "      <td>0</td>\n",
       "      <td>...</td>\n",
       "      <td>0</td>\n",
       "      <td>1</td>\n",
       "      <td>2</td>\n",
       "      <td>-0.15</td>\n",
       "      <td>1.97</td>\n",
       "      <td>87.8</td>\n",
       "      <td>108.9</td>\n",
       "      <td>9.0</td>\n",
       "      <td>0</td>\n",
       "      <td>0</td>\n",
       "    </tr>\n",
       "    <tr>\n",
       "      <th>2</th>\n",
       "      <td>3</td>\n",
       "      <td>2020-08-10</td>\n",
       "      <td>COL</td>\n",
       "      <td>ARI</td>\n",
       "      <td>COL</td>\n",
       "      <td>arenado, nolan</td>\n",
       "      <td>ray, robbie</td>\n",
       "      <td>571448</td>\n",
       "      <td>592662</td>\n",
       "      <td>0</td>\n",
       "      <td>...</td>\n",
       "      <td>0</td>\n",
       "      <td>1</td>\n",
       "      <td>2</td>\n",
       "      <td>-0.54</td>\n",
       "      <td>1.75</td>\n",
       "      <td>86.5</td>\n",
       "      <td>75.0</td>\n",
       "      <td>49.0</td>\n",
       "      <td>0</td>\n",
       "      <td>0</td>\n",
       "    </tr>\n",
       "    <tr>\n",
       "      <th>3</th>\n",
       "      <td>4</td>\n",
       "      <td>2020-08-26</td>\n",
       "      <td>ARI</td>\n",
       "      <td>COL</td>\n",
       "      <td>COL</td>\n",
       "      <td>blackmon, charlie</td>\n",
       "      <td>ray, robbie</td>\n",
       "      <td>453568</td>\n",
       "      <td>592662</td>\n",
       "      <td>1</td>\n",
       "      <td>...</td>\n",
       "      <td>0</td>\n",
       "      <td>0</td>\n",
       "      <td>2</td>\n",
       "      <td>-0.42</td>\n",
       "      <td>3.15</td>\n",
       "      <td>86.7</td>\n",
       "      <td>90.6</td>\n",
       "      <td>54.0</td>\n",
       "      <td>0</td>\n",
       "      <td>1</td>\n",
       "    </tr>\n",
       "    <tr>\n",
       "      <th>5</th>\n",
       "      <td>6</td>\n",
       "      <td>2020-08-10</td>\n",
       "      <td>COL</td>\n",
       "      <td>ARI</td>\n",
       "      <td>COL</td>\n",
       "      <td>blackmon, charlie</td>\n",
       "      <td>ray, robbie</td>\n",
       "      <td>453568</td>\n",
       "      <td>592662</td>\n",
       "      <td>1</td>\n",
       "      <td>...</td>\n",
       "      <td>0</td>\n",
       "      <td>2</td>\n",
       "      <td>2</td>\n",
       "      <td>-0.99</td>\n",
       "      <td>1.52</td>\n",
       "      <td>86.2</td>\n",
       "      <td>66.7</td>\n",
       "      <td>27.0</td>\n",
       "      <td>0</td>\n",
       "      <td>1</td>\n",
       "    </tr>\n",
       "    <tr>\n",
       "      <th>9</th>\n",
       "      <td>10</td>\n",
       "      <td>2020-08-26</td>\n",
       "      <td>ARI</td>\n",
       "      <td>COL</td>\n",
       "      <td>COL</td>\n",
       "      <td>butera, drew</td>\n",
       "      <td>ray, robbie</td>\n",
       "      <td>460077</td>\n",
       "      <td>592662</td>\n",
       "      <td>0</td>\n",
       "      <td>...</td>\n",
       "      <td>1</td>\n",
       "      <td>1</td>\n",
       "      <td>1</td>\n",
       "      <td>-0.44</td>\n",
       "      <td>2.33</td>\n",
       "      <td>85.5</td>\n",
       "      <td>89.7</td>\n",
       "      <td>55.0</td>\n",
       "      <td>0</td>\n",
       "      <td>0</td>\n",
       "    </tr>\n",
       "  </tbody>\n",
       "</table>\n",
       "<p>5 rows × 26 columns</p>\n",
       "</div>"
      ],
      "text/plain": [
       "   bip_id   game_date home_team away_team batter_team        batter_name  \\\n",
       "0       1  2020-08-26       ARI       COL         COL     arenado, nolan   \n",
       "2       3  2020-08-10       COL       ARI         COL     arenado, nolan   \n",
       "3       4  2020-08-26       ARI       COL         COL  blackmon, charlie   \n",
       "5       6  2020-08-10       COL       ARI         COL  blackmon, charlie   \n",
       "9      10  2020-08-26       ARI       COL         COL       butera, drew   \n",
       "\n",
       "  pitcher_name  batter_id  pitcher_id  is_batter_lefty  ...  outs_when_up  \\\n",
       "0  ray, robbie     571448      592662                0  ...             0   \n",
       "2  ray, robbie     571448      592662                0  ...             0   \n",
       "3  ray, robbie     453568      592662                1  ...             0   \n",
       "5  ray, robbie     453568      592662                1  ...             0   \n",
       "9  ray, robbie     460077      592662                0  ...             1   \n",
       "\n",
       "  balls strikes plate_x  plate_z  pitch_mph  launch_speed  launch_angle  \\\n",
       "0     1       2   -0.15     1.97       87.8         108.9           9.0   \n",
       "2     1       2   -0.54     1.75       86.5          75.0          49.0   \n",
       "3     0       2   -0.42     3.15       86.7          90.6          54.0   \n",
       "5     2       2   -0.99     1.52       86.2          66.7          27.0   \n",
       "9     1       1   -0.44     2.33       85.5          89.7          55.0   \n",
       "\n",
       "   is_home_run  same_hand_players  \n",
       "0            0                  0  \n",
       "2            0                  0  \n",
       "3            0                  1  \n",
       "5            0                  1  \n",
       "9            0                  0  \n",
       "\n",
       "[5 rows x 26 columns]"
      ]
     },
     "execution_count": 4,
     "metadata": {},
     "output_type": "execute_result"
    }
   ],
   "source": [
    "import pandas as pd\n",
    "import numpy as np\n",
    "\n",
    "df = pd.read_csv('train.csv')\n",
    "df.dropna(subset = ['launch_speed'], inplace=True)\n",
    "df.dropna(subset = ['launch_angle'], inplace=True)\n",
    "df[\"same_hand_players\"] = np.where(df['is_batter_lefty'] == df['is_pitcher_lefty'], 1, 0)\n",
    "df.head()"
   ]
  },
  {
   "cell_type": "code",
   "execution_count": 5,
   "id": "1d5ffb49",
   "metadata": {},
   "outputs": [
    {
     "data": {
      "image/png": "[encoded data removed]",
      "text/plain": [
       "<Figure size 432x288 with 1 Axes>"
      ]
     },
     "metadata": {
      "needs_background": "light"
     },
     "output_type": "display_data"
    }
   ],
   "source": [
    "%matplotlib inline\n",
    "import matplotlib.pyplot as plt\n",
    "\n",
    "pitch_location = df[['plate_x','plate_z']].values\n",
    "is_homerun = df['is_home_run'].values\n",
    "\n",
    "plt.scatter(pitch_location[is_homerun == 0, 0],\n",
    "            pitch_location[is_homerun == 0, 1], \n",
    "            label='not homerun',\n",
    "            alpha = 1)\n",
    "plt.scatter(pitch_location[is_homerun == 1, 0],\n",
    "            pitch_location[is_homerun == 1, 1], \n",
    "            label='is homerun',\n",
    "            alpha = 1)\n",
    "\n",
    "plt.xlabel('pitch horizontal')\n",
    "plt.ylabel('pitch vertical')\n",
    "plt.xlim([-2, 2])\n",
    "plt.ylim([0, 5])\n",
    "plt.legend(loc='upper left')\n",
    "plt.show()"
   ]
  },
  {
   "cell_type": "code",
   "execution_count": 6,
   "id": "f9698291",
   "metadata": {},
   "outputs": [],
   "source": [
    "from sklearn.model_selection import train_test_split\n",
    "feature_columns = ['launch_speed', 'launch_angle', 'bearing',\n",
    "                   'pitch_name', 'same_hand_players',\n",
    "                   'plate_x', 'plate_z']\n",
    "X = df[feature_columns]\n",
    "names = {\"4-Seam Fastball\": 1, \n",
    "        \"Sinker\": 2, \n",
    "        \"Slider\": 3, \n",
    "        \"Changeup\": 4, \n",
    "        \"Curveball\": 5, \n",
    "        \"Cutter\": 6, \n",
    "        \"Knuckle Curve\": 7,\n",
    "        \"Split-Finger\": 8,\n",
    "        \"Forkball\": 9}\n",
    "directions = {\"left\": 1,\n",
    "              \"right\": 2,\n",
    "              \"center\": 3}\n",
    "X = X.replace({'pitch_name': names})\n",
    "X = X.replace({'bearing': directions})\n",
    "y = df.is_home_run\n",
    "\n",
    "X_train, X_test, y_train, y_test = \\\n",
    "    train_test_split(X, y, test_size=0.3, train_size=0.7, random_state=1, stratify=y)\n"
   ]
  },
  {
   "cell_type": "code",
   "execution_count": 7,
   "id": "0e9404ad",
   "metadata": {},
   "outputs": [],
   "source": [
    "# 2. Decision Tree with Grid Search"
   ]
  },
  {
   "cell_type": "code",
   "execution_count": 31,
   "id": "6f5128a3",
   "metadata": {},
   "outputs": [
    {
     "name": "stdout",
     "output_type": "stream",
     "text": [
      "Fitting 10 folds for each of 15 candidates, totalling 150 fits\n",
      "[CV] END ...................max_depth=2, min_samples_split=3; total time=   0.0s\n",
      "[CV] END ...................max_depth=2, min_samples_split=3; total time=   0.0s\n",
      "[CV] END ...................max_depth=2, min_samples_split=3; total time=   0.0s\n",
      "[CV] END ...................max_depth=2, min_samples_split=3; total time=   0.0s\n",
      "[CV] END ...................max_depth=2, min_samples_split=3; total time=   0.0s\n",
      "[CV] END ...................max_depth=2, min_samples_split=3; total time=   0.0s\n",
      "[CV] END ...................max_depth=2, min_samples_split=3; total time=   0.0s\n",
      "[CV] END ...................max_depth=2, min_samples_split=3; total time=   0.0s\n",
      "[CV] END ...................max_depth=2, min_samples_split=3; total time=   0.0s\n",
      "[CV] END ...................max_depth=2, min_samples_split=3; total time=   0.0s\n",
      "[CV] END ...................max_depth=2, min_samples_split=4; total time=   0.0s\n",
      "[CV] END ...................max_depth=2, min_samples_split=4; total time=   0.0s\n",
      "[CV] END ...................max_depth=2, min_samples_split=4; total time=   0.0s\n",
      "[CV] END ...................max_depth=2, min_samples_split=4; total time=   0.0s\n",
      "[CV] END ...................max_depth=2, min_samples_split=4; total time=   0.0s\n",
      "[CV] END ...................max_depth=2, min_samples_split=4; total time=   0.0s\n",
      "[CV] END ...................max_depth=2, min_samples_split=4; total time=   0.0s\n",
      "[CV] END ...................max_depth=2, min_samples_split=4; total time=   0.0s\n",
      "[CV] END ...................max_depth=2, min_samples_split=4; total time=   0.0s\n",
      "[CV] END ...................max_depth=2, min_samples_split=4; total time=   0.0s\n",
      "[CV] END ...................max_depth=2, min_samples_split=5; total time=   0.0s\n",
      "[CV] END ...................max_depth=2, min_samples_split=5; total time=   0.0s\n",
      "[CV] END ...................max_depth=2, min_samples_split=5; total time=   0.0s\n",
      "[CV] END ...................max_depth=2, min_samples_split=5; total time=   0.0s\n",
      "[CV] END ...................max_depth=2, min_samples_split=5; total time=   0.0s\n",
      "[CV] END ...................max_depth=2, min_samples_split=5; total time=   0.0s\n",
      "[CV] END ...................max_depth=2, min_samples_split=5; total time=   0.0s\n",
      "[CV] END ...................max_depth=2, min_samples_split=5; total time=   0.0s\n",
      "[CV] END ...................max_depth=2, min_samples_split=5; total time=   0.0s\n",
      "[CV] END ...................max_depth=2, min_samples_split=5; total time=   0.0s\n",
      "[CV] END ...................max_depth=4, min_samples_split=3; total time=   0.0s\n",
      "[CV] END ...................max_depth=4, min_samples_split=3; total time=   0.0s\n",
      "[CV] END ...................max_depth=4, min_samples_split=3; total time=   0.0s\n",
      "[CV] END ...................max_depth=4, min_samples_split=3; total time=   0.0s\n",
      "[CV] END ...................max_depth=4, min_samples_split=3; total time=   0.0s\n",
      "[CV] END ...................max_depth=4, min_samples_split=3; total time=   0.0s\n",
      "[CV] END ...................max_depth=4, min_samples_split=3; total time=   0.0s\n",
      "[CV] END ...................max_depth=4, min_samples_split=3; total time=   0.0s\n",
      "[CV] END ...................max_depth=4, min_samples_split=3; total time=   0.0s\n",
      "[CV] END ...................max_depth=4, min_samples_split=3; total time=   0.0s\n",
      "[CV] END ...................max_depth=4, min_samples_split=4; total time=   0.0s\n",
      "[CV] END ...................max_depth=4, min_samples_split=4; total time=   0.0s\n",
      "[CV] END ...................max_depth=4, min_samples_split=4; total time=   0.0s\n",
      "[CV] END ...................max_depth=4, min_samples_split=4; total time=   0.0s\n",
      "[CV] END ...................max_depth=4, min_samples_split=4; total time=   0.0s\n",
      "[CV] END ...................max_depth=4, min_samples_split=4; total time=   0.0s\n",
      "[CV] END ...................max_depth=4, min_samples_split=4; total time=   0.0s\n",
      "[CV] END ...................max_depth=4, min_samples_split=4; total time=   0.0s\n",
      "[CV] END ...................max_depth=4, min_samples_split=4; total time=   0.0s\n",
      "[CV] END ...................max_depth=4, min_samples_split=4; total time=   0.0s\n",
      "[CV] END ...................max_depth=4, min_samples_split=5; total time=   0.0s\n",
      "[CV] END ...................max_depth=4, min_samples_split=5; total time=   0.0s\n",
      "[CV] END ...................max_depth=4, min_samples_split=5; total time=   0.0s\n",
      "[CV] END ...................max_depth=4, min_samples_split=5; total time=   0.0s\n",
      "[CV] END ...................max_depth=4, min_samples_split=5; total time=   0.0s\n",
      "[CV] END ...................max_depth=4, min_samples_split=5; total time=   0.0s\n",
      "[CV] END ...................max_depth=4, min_samples_split=5; total time=   0.0s\n",
      "[CV] END ...................max_depth=4, min_samples_split=5; total time=   0.0s\n",
      "[CV] END ...................max_depth=4, min_samples_split=5; total time=   0.0s\n",
      "[CV] END ...................max_depth=4, min_samples_split=5; total time=   0.0s\n",
      "[CV] END ...................max_depth=6, min_samples_split=3; total time=   0.0s\n",
      "[CV] END ...................max_depth=6, min_samples_split=3; total time=   0.0s\n",
      "[CV] END ...................max_depth=6, min_samples_split=3; total time=   0.0s\n",
      "[CV] END ...................max_depth=6, min_samples_split=3; total time=   0.0s\n",
      "[CV] END ...................max_depth=6, min_samples_split=3; total time=   0.0s\n",
      "[CV] END ...................max_depth=6, min_samples_split=3; total time=   0.0s\n",
      "[CV] END ...................max_depth=6, min_samples_split=3; total time=   0.0s\n",
      "[CV] END ...................max_depth=6, min_samples_split=3; total time=   0.0s\n",
      "[CV] END ...................max_depth=6, min_samples_split=3; total time=   0.0s\n",
      "[CV] END ...................max_depth=6, min_samples_split=3; total time=   0.0s\n",
      "[CV] END ...................max_depth=6, min_samples_split=4; total time=   0.0s\n",
      "[CV] END ...................max_depth=6, min_samples_split=4; total time=   0.0s\n",
      "[CV] END ...................max_depth=6, min_samples_split=4; total time=   0.0s\n",
      "[CV] END ...................max_depth=6, min_samples_split=4; total time=   0.0s\n",
      "[CV] END ...................max_depth=6, min_samples_split=4; total time=   0.0s\n",
      "[CV] END ...................max_depth=6, min_samples_split=4; total time=   0.0s\n",
      "[CV] END ...................max_depth=6, min_samples_split=4; total time=   0.0s\n",
      "[CV] END ...................max_depth=6, min_samples_split=4; total time=   0.0s\n",
      "[CV] END ...................max_depth=6, min_samples_split=4; total time=   0.0s\n",
      "[CV] END ...................max_depth=6, min_samples_split=4; total time=   0.0s\n",
      "[CV] END ...................max_depth=6, min_samples_split=5; total time=   0.0s\n",
      "[CV] END ...................max_depth=6, min_samples_split=5; total time=   0.0s\n",
      "[CV] END ...................max_depth=6, min_samples_split=5; total time=   0.0s\n",
      "[CV] END ...................max_depth=6, min_samples_split=5; total time=   0.0s\n",
      "[CV] END ...................max_depth=6, min_samples_split=5; total time=   0.0s\n",
      "[CV] END ...................max_depth=6, min_samples_split=5; total time=   0.0s\n",
      "[CV] END ...................max_depth=6, min_samples_split=5; total time=   0.0s\n",
      "[CV] END ...................max_depth=6, min_samples_split=5; total time=   0.0s\n",
      "[CV] END ...................max_depth=6, min_samples_split=5; total time=   0.0s\n",
      "[CV] END ...................max_depth=6, min_samples_split=5; total time=   0.0s\n",
      "[CV] END ..................max_depth=16, min_samples_split=3; total time=   0.0s\n",
      "[CV] END ..................max_depth=16, min_samples_split=3; total time=   0.0s\n",
      "[CV] END ..................max_depth=16, min_samples_split=3; total time=   0.0s\n",
      "[CV] END ..................max_depth=16, min_samples_split=3; total time=   0.0s\n",
      "[CV] END ..................max_depth=16, min_samples_split=3; total time=   0.0s\n",
      "[CV] END ..................max_depth=16, min_samples_split=3; total time=   0.0s\n",
      "[CV] END ..................max_depth=16, min_samples_split=3; total time=   0.0s\n",
      "[CV] END ..................max_depth=16, min_samples_split=3; total time=   0.0s\n",
      "[CV] END ..................max_depth=16, min_samples_split=3; total time=   0.0s\n",
      "[CV] END ..................max_depth=16, min_samples_split=3; total time=   0.0s\n",
      "[CV] END ..................max_depth=16, min_samples_split=4; total time=   0.0s\n",
      "[CV] END ..................max_depth=16, min_samples_split=4; total time=   0.0s\n",
      "[CV] END ..................max_depth=16, min_samples_split=4; total time=   0.0s\n",
      "[CV] END ..................max_depth=16, min_samples_split=4; total time=   0.0s\n"
     ]
    },
    {
     "name": "stdout",
     "output_type": "stream",
     "text": [
      "[CV] END ..................max_depth=16, min_samples_split=4; total time=   0.0s\n",
      "[CV] END ..................max_depth=16, min_samples_split=4; total time=   0.0s\n",
      "[CV] END ..................max_depth=16, min_samples_split=4; total time=   0.0s\n",
      "[CV] END ..................max_depth=16, min_samples_split=4; total time=   0.0s\n",
      "[CV] END ..................max_depth=16, min_samples_split=4; total time=   0.0s\n",
      "[CV] END ..................max_depth=16, min_samples_split=4; total time=   0.0s\n",
      "[CV] END ..................max_depth=16, min_samples_split=5; total time=   0.0s\n",
      "[CV] END ..................max_depth=16, min_samples_split=5; total time=   0.0s\n",
      "[CV] END ..................max_depth=16, min_samples_split=5; total time=   0.0s\n",
      "[CV] END ..................max_depth=16, min_samples_split=5; total time=   0.0s\n",
      "[CV] END ..................max_depth=16, min_samples_split=5; total time=   0.0s\n",
      "[CV] END ..................max_depth=16, min_samples_split=5; total time=   0.0s\n",
      "[CV] END ..................max_depth=16, min_samples_split=5; total time=   0.0s\n",
      "[CV] END ..................max_depth=16, min_samples_split=5; total time=   0.0s\n",
      "[CV] END ..................max_depth=16, min_samples_split=5; total time=   0.0s\n",
      "[CV] END ..................max_depth=16, min_samples_split=5; total time=   0.0s\n",
      "[CV] END ..................max_depth=32, min_samples_split=3; total time=   0.0s\n",
      "[CV] END ..................max_depth=32, min_samples_split=3; total time=   0.0s\n",
      "[CV] END ..................max_depth=32, min_samples_split=3; total time=   0.0s\n",
      "[CV] END ..................max_depth=32, min_samples_split=3; total time=   0.0s\n",
      "[CV] END ..................max_depth=32, min_samples_split=3; total time=   0.0s\n",
      "[CV] END ..................max_depth=32, min_samples_split=3; total time=   0.0s\n",
      "[CV] END ..................max_depth=32, min_samples_split=3; total time=   0.0s\n",
      "[CV] END ..................max_depth=32, min_samples_split=3; total time=   0.0s\n",
      "[CV] END ..................max_depth=32, min_samples_split=3; total time=   0.0s\n",
      "[CV] END ..................max_depth=32, min_samples_split=3; total time=   0.0s\n",
      "[CV] END ..................max_depth=32, min_samples_split=4; total time=   0.0s\n",
      "[CV] END ..................max_depth=32, min_samples_split=4; total time=   0.0s\n",
      "[CV] END ..................max_depth=32, min_samples_split=4; total time=   0.0s\n",
      "[CV] END ..................max_depth=32, min_samples_split=4; total time=   0.0s\n",
      "[CV] END ..................max_depth=32, min_samples_split=4; total time=   0.0s\n",
      "[CV] END ..................max_depth=32, min_samples_split=4; total time=   0.0s\n",
      "[CV] END ..................max_depth=32, min_samples_split=4; total time=   0.0s\n",
      "[CV] END ..................max_depth=32, min_samples_split=4; total time=   0.0s\n",
      "[CV] END ..................max_depth=32, min_samples_split=4; total time=   0.0s\n",
      "[CV] END ..................max_depth=32, min_samples_split=4; total time=   0.0s\n",
      "[CV] END ..................max_depth=32, min_samples_split=5; total time=   0.0s\n",
      "[CV] END ..................max_depth=32, min_samples_split=5; total time=   0.0s\n",
      "[CV] END ..................max_depth=32, min_samples_split=5; total time=   0.0s\n",
      "[CV] END ..................max_depth=32, min_samples_split=5; total time=   0.0s\n",
      "[CV] END ..................max_depth=32, min_samples_split=5; total time=   0.0s\n",
      "[CV] END ..................max_depth=32, min_samples_split=5; total time=   0.0s\n",
      "[CV] END ..................max_depth=32, min_samples_split=5; total time=   0.0s\n",
      "[CV] END ..................max_depth=32, min_samples_split=5; total time=   0.0s\n",
      "[CV] END ..................max_depth=32, min_samples_split=5; total time=   0.0s\n",
      "[CV] END ..................max_depth=32, min_samples_split=5; total time=   0.0s\n"
     ]
    },
    {
     "data": {
      "text/plain": [
       "0.9706722576275737"
      ]
     },
     "execution_count": 31,
     "metadata": {},
     "output_type": "execute_result"
    }
   ],
   "source": [
    "from sklearn.model_selection import GridSearchCV\n",
    "from sklearn.tree import DecisionTreeClassifier\n",
    "tree = DecisionTreeClassifier(random_state=1)\n",
    "params = {\n",
    "    'min_samples_split': [3, 4, 5],\n",
    "    'max_depth': [2, 4, 6, 16, 32]\n",
    "}\n",
    "grid = GridSearchCV(estimator=tree,\n",
    "                    param_grid=params,\n",
    "                    cv=10,\n",
    "                    n_jobs=1,\n",
    "                    verbose=2)\n",
    "grid.fit(X_train, y_train)\n",
    "grid.best_score_"
   ]
  },
  {
   "cell_type": "code",
   "execution_count": 29,
   "id": "543f3cac",
   "metadata": {},
   "outputs": [
    {
     "data": {
      "text/plain": [
       "{'max_depth': 6, 'min_samples_split': 5}"
      ]
     },
     "execution_count": 29,
     "metadata": {},
     "output_type": "execute_result"
    }
   ],
   "source": [
    "grid.best_params_"
   ]
  },
  {
   "cell_type": "code",
   "execution_count": 30,
   "id": "53f52c6f",
   "metadata": {},
   "outputs": [
    {
     "name": "stdout",
     "output_type": "stream",
     "text": [
      "Training Accuracy: 97.504\n",
      "Test Accuracy: 97.023\n"
     ]
    }
   ],
   "source": [
    "print(f\"Training Accuracy: {grid.best_estimator_.score(X_train, y_train)*100:0.3f}\")\n",
    "print(f\"Test Accuracy: {grid.best_estimator_.score(X_test, y_test)*100:0.3f}\")"
   ]
  },
  {
   "cell_type": "code",
   "execution_count": 11,
   "id": "a7ed0f93",
   "metadata": {},
   "outputs": [
    {
     "data": {
      "image/png": "[encoded data removed]",
      "text/plain": [
       "<Figure size 432x288 with 1 Axes>"
      ]
     },
     "metadata": {
      "needs_background": "light"
     },
     "output_type": "display_data"
    }
   ],
   "source": [
    "import matplotlib.pyplot as plt\n",
    "from mlxtend.evaluate import confusion_matrix\n",
    "from mlxtend.plotting import plot_confusion_matrix\n",
    "y_pred = grid.best_estimator_.predict(X_test)\n",
    "cm = confusion_matrix(y_target=y_test, \n",
    "                      y_predicted=y_pred)\n",
    "fig, ax = plot_confusion_matrix(conf_mat=cm)\n",
    "plt.show()"
   ]
  },
  {
   "cell_type": "code",
   "execution_count": 12,
   "id": "5a602e03",
   "metadata": {},
   "outputs": [],
   "source": [
    "# 3. K-Nearest Neighbors"
   ]
  },
  {
   "cell_type": "code",
   "execution_count": 23,
   "id": "7adf0c08",
   "metadata": {},
   "outputs": [
    {
     "data": {
      "text/plain": [
       "KNeighborsClassifier(n_neighbors=4)"
      ]
     },
     "execution_count": 23,
     "metadata": {},
     "output_type": "execute_result"
    }
   ],
   "source": [
    "from sklearn.neighbors import KNeighborsClassifier\n",
    "knn = KNeighborsClassifier(n_neighbors=4)\n",
    "knn.fit(X_train, y_train)"
   ]
  },
  {
   "cell_type": "code",
   "execution_count": 24,
   "id": "e3b36eb7",
   "metadata": {},
   "outputs": [
    {
     "name": "stdout",
     "output_type": "stream",
     "text": [
      "Training Accuracy: 97.802\n",
      "Test Accuracy: 97.088\n"
     ]
    }
   ],
   "source": [
    "print(f\"Training Accuracy: {knn.score(X_train, y_train)*100:0.3f}\")\n",
    "print(f\"Test Accuracy: {knn.score(X_test, y_test)*100:0.3f}\")"
   ]
  },
  {
   "cell_type": "code",
   "execution_count": 25,
   "id": "c38a5e9b",
   "metadata": {},
   "outputs": [
    {
     "data": {
      "image/png": "[encoded data removed]",
      "text/plain": [
       "<Figure size 432x288 with 1 Axes>"
      ]
     },
     "metadata": {
      "needs_background": "light"
     },
     "output_type": "display_data"
    }
   ],
   "source": [
    "y_pred = knn.predict(X_test)\n",
    "cm = confusion_matrix(y_target=y_test, \n",
    "                      y_predicted=y_pred)\n",
    "fig, ax = plot_confusion_matrix(conf_mat=cm)\n",
    "plt.show()"
   ]
  },
  {
   "cell_type": "code",
   "execution_count": 16,
   "id": "86ba252a",
   "metadata": {},
   "outputs": [],
   "source": [
    "# 4. XGBoost"
   ]
  },
  {
   "cell_type": "code",
   "execution_count": 26,
   "id": "0b75e9a6",
   "metadata": {},
   "outputs": [
    {
     "name": "stdout",
     "output_type": "stream",
     "text": [
      "Training Accuracy: 99.729\n",
      "Test Accuracy: 97.165\n"
     ]
    }
   ],
   "source": [
    "from xgboost import XGBClassifier\n",
    "boost = XGBClassifier(random_state=1, verbosity=0, use_label_encoder=False)\n",
    "boost.fit(X_train, y_train)\n",
    "print(f\"Training Accuracy: {boost.score(X_train, y_train)*100:0.3f}\")\n",
    "print(f\"Test Accuracy: {boost.score(X_test, y_test)*100:0.3f}\")"
   ]
  },
  {
   "cell_type": "code",
   "execution_count": 27,
   "id": "61ddfce7",
   "metadata": {},
   "outputs": [
    {
     "data": {
      "image/png": "[encoded data removed]",
      "text/plain": [
       "<Figure size 432x288 with 1 Axes>"
      ]
     },
     "metadata": {
      "needs_background": "light"
     },
     "output_type": "display_data"
    }
   ],
   "source": [
    "y_pred = boost.predict(X_test)\n",
    "cm = confusion_matrix(y_target=y_test, \n",
    "                      y_predicted=y_pred)\n",
    "fig, ax = plot_confusion_matrix(conf_mat=cm)\n",
    "plt.show()"
   ]
  },
  {
   "cell_type": "code",
   "execution_count": null,
   "id": "b77c9cd3",
   "metadata": {},
   "outputs": [],
   "source": []
  }
 ],
 "metadata": {
  "kernelspec": {
   "display_name": "Python 3",
   "language": "python",
   "name": "python3"
  },
  "language_info": {
   "codemirror_mode": {
    "name": "ipython",
    "version": 3
   },
   "file_extension": ".py",
   "mimetype": "text/x-python",
   "name": "python",
   "nbconvert_exporter": "python",
   "pygments_lexer": "ipython3",
   "version": "3.8.8"
  }
 },
 "nbformat": 4,
 "nbformat_minor": 5
}
